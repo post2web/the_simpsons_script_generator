{
 "cells": [
  {
   "cell_type": "code",
   "execution_count": 1,
   "metadata": {
    "ExecuteTime": {
     "end_time": "2017-09-21T04:17:19.964173Z",
     "start_time": "2017-09-21T04:17:19.047577Z"
    },
    "extensions": {
     "jupyter_dashboards": {
      "version": 1,
      "views": {
       "grid_default": {
        "col": 0,
        "height": 4,
        "hidden": true,
        "row": 0,
        "width": 12
       },
       "report_default": {}
      }
     }
    }
   },
   "outputs": [
    {
     "name": "stdout",
     "output_type": "stream",
     "text": [
      "env: CUDA_VISIBLE_DEVICES=''\n"
     ]
    }
   ],
   "source": [
    "# don't use gpus\n",
    "%env CUDA_VISIBLE_DEVICES=''\n",
    "import tensorflow as tf\n",
    "import numpy as np\n",
    "import pandas as pd\n",
    "import pickle"
   ]
  },
  {
   "cell_type": "markdown",
   "metadata": {
    "extensions": {
     "jupyter_dashboards": {
      "version": 1,
      "views": {
       "grid_default": {
        "col": 0,
        "height": 4,
        "hidden": true,
        "row": 0,
        "width": 12
       },
       "report_default": {}
      }
     }
    }
   },
   "source": [
    "## Load the trained model"
   ]
  },
  {
   "cell_type": "code",
   "execution_count": 2,
   "metadata": {
    "ExecuteTime": {
     "end_time": "2017-09-21T04:17:23.555309Z",
     "start_time": "2017-09-21T04:17:21.181488Z"
    },
    "extensions": {
     "jupyter_dashboards": {
      "version": 1,
      "views": {
       "grid_default": {
        "col": 0,
        "height": 4,
        "hidden": true,
        "row": 0,
        "width": 12
       },
       "report_default": {}
      }
     }
    }
   },
   "outputs": [
    {
     "name": "stdout",
     "output_type": "stream",
     "text": [
      "INFO:tensorflow:Restoring parameters from /home/evo/projects/the_simpsons_script_generator/checkpoints0/model20000\n"
     ]
    }
   ],
   "source": [
    "checkout_dir = '/home/evo/projects/the_simpsons_script_generator/checkpoints0/model20000'\n",
    "\n",
    "text, words_to_ids, ids_to_words = pickle.load(open('/home/evo/projects/the_simpsons_script_generator/data/preprocess.p', mode='rb'))\n",
    "sess = tf.Session()\n",
    "\n",
    "loader = tf.train.import_meta_graph(checkout_dir + '.meta')\n",
    "loader.restore(sess, checkout_dir)\n",
    "\n",
    "loaded_graph = tf.get_default_graph()\n",
    "# Get Tensors from loaded model\n",
    "names = [\"input:0\", \"initial_state:0\", \"final_state:0\", \"probs:0\"]\n",
    "tensors = [loaded_graph.get_tensor_by_name(name) for name in names]\n",
    "inputs, initial_state, final_state, probs = tensors\n"
   ]
  },
  {
   "cell_type": "code",
   "execution_count": 3,
   "metadata": {
    "ExecuteTime": {
     "end_time": "2017-09-21T04:17:23.846482Z",
     "start_time": "2017-09-21T04:17:23.557993Z"
    },
    "extensions": {
     "jupyter_dashboards": {
      "version": 1,
      "views": {
       "grid_default": {
        "col": 0,
        "height": 4,
        "hidden": true,
        "row": 0,
        "width": 12
       },
       "report_default": {}
      }
     }
    },
    "scrolled": true
   },
   "outputs": [],
   "source": [
    "import string\n",
    "import re\n",
    "\n",
    "value_to_token = {\n",
    "    '.': '[period]',\n",
    "    '!': '[exclamation_mark]',\n",
    "    '?': '[question_mark]',\n",
    "    ',': '[comma]',\n",
    "    '\"': '[quotation_mark]',\n",
    "    \"'\": '[apostrophe]',\n",
    "    ':': '[colon]',\n",
    "    ';': '[semicolon]',\n",
    "    '(': '[left_parentheses]',\n",
    "    ')': '[right_parentheses]',\n",
    "    '-': '[dash]',\n",
    "    '&': '[and]',\n",
    "    '#': '[pound]',\n",
    "    '/': '[fslash]',\n",
    "    '\\\\': '[bslash]',\n",
    "    '\\n': '[return]',\n",
    "    '\\t': '[tab]',\n",
    "    ' ': '[space]'\n",
    "}\n",
    "\n",
    "token_to_value = dict(zip(value_to_token.values(), value_to_token.keys()))\n",
    "\n",
    "def text_to_tokens(text, vocab=None):\n",
    "    text = text.replace('[', '(').replace(']', ')')\n",
    "    for key, token in value_to_token.items():\n",
    "        text = text.replace(key, token)\n",
    "    \n",
    "    tokens = re.compile(\"(\\\\[.*?\\\\])\").split(text)\n",
    "    # tokens will have empty results so better filter it\n",
    "    tokens = list(filter(None, tokens))\n",
    "    \n",
    "    # fix capital letters\n",
    "    new_tokens = []\n",
    "    for token in tokens:\n",
    "        if token[0].isupper():\n",
    "            new_tokens.append('[capital]')\n",
    "        new_tokens.append(token.lower())\n",
    "    if vocab is not None:\n",
    "        tokens = []\n",
    "        for token in new_tokens:\n",
    "            if token not in vocab:\n",
    "                token = 'not_in_vocab'\n",
    "            tokens.append(token)\n",
    "        new_tokens = tokens\n",
    "    return new_tokens\n",
    "\n",
    "def tokens_to_text(sentence_tokens):\n",
    "    text = ''\n",
    "    capitalize = False\n",
    "    for token in sentence_tokens:\n",
    "        if token == '[capital]':\n",
    "            capitalize = True\n",
    "            continue\n",
    "        if capitalize:\n",
    "            capitalize = False\n",
    "            if token not in token_to_value:\n",
    "                token = token.title()\n",
    "        if token in token_to_value:\n",
    "            text += token_to_value[token]\n",
    "        else:\n",
    "            text += token\n",
    "    return text\n",
    "\n",
    "def pick_word(probabilities, int_to_vocab):\n",
    "    probabilities[words_to_ids['not_in_vocab']] = 0.\n",
    "    # make it sum to 1\n",
    "    probabilities /= probabilities.sum()\n",
    "    word_id = np.random.choice(np.arange(len(probabilities)), size=1, p=probabilities)[0]\n",
    "    #word_id = np.argmax(probabilities)\n",
    "    return int_to_vocab[word_id]\n",
    "\n",
    "def generate_script(starting_text='Homer Simpson:', sentences=2):\n",
    "    sentence_tokens = text_to_tokens(starting_text)\n",
    "    prev_state = sess.run(initial_state, {inputs: np.array([[1]])})\n",
    "    sentence_count = 0\n",
    "    while True:\n",
    "        sentence_ids = [[words_to_ids[word] for word in sentence_tokens]]\n",
    "        sentence_len = len(sentence_ids[0])\n",
    "\n",
    "        probabilities, prev_state = sess.run(\n",
    "            [probs, final_state],\n",
    "            {inputs: sentence_ids, initial_state: prev_state})\n",
    "\n",
    "        predicted_token = pick_word(probabilities[0][sentence_len-1], ids_to_words)\n",
    "        sentence_tokens.append(predicted_token)\n",
    "        \n",
    "        if predicted_token in ['[period]', '[exclamation_mark]', '[question_mark]']:\n",
    "            sentence_count += 1\n",
    "        if sentence_count >= sentences:\n",
    "            break\n",
    "\n",
    "    return tokens_to_text(sentence_tokens)"
   ]
  },
  {
   "cell_type": "markdown",
   "metadata": {
    "extensions": {
     "jupyter_dashboards": {
      "version": 1,
      "views": {
       "grid_default": {
        "col": 0,
        "height": 8,
        "hidden": false,
        "row": 0,
        "width": 12
       },
       "report_default": {}
      }
     }
    }
   },
   "source": [
    "## A demo app for a deep learning simpsons movie script generator\n",
    "\n",
    "I include some randomness into picking of next word so it generates different sequences most of the time."
   ]
  },
  {
   "cell_type": "code",
   "execution_count": 4,
   "metadata": {
    "ExecuteTime": {
     "end_time": "2017-09-21T04:17:24.624939Z",
     "start_time": "2017-09-21T04:17:24.512675Z"
    },
    "extensions": {
     "jupyter_dashboards": {
      "version": 1,
      "views": {
       "grid_default": {
        "col": 0,
        "height": 12,
        "hidden": false,
        "row": 8,
        "width": 12
       },
       "report_default": {}
      }
     }
    }
   },
   "outputs": [
    {
     "name": "stderr",
     "output_type": "stream",
     "text": [
      "Widget Javascript not detected.  It may not be installed properly.\n",
      "Widget Javascript not detected.  It may not be installed properly.\n",
      "Widget Javascript not detected.  It may not be installed properly.\n",
      "Widget Javascript not detected.  It may not be installed properly.\n",
      "Widget Javascript not detected.  It may not be installed properly.\n"
     ]
    }
   ],
   "source": [
    "from __future__ import print_function\n",
    "from ipywidgets import interact, interactive, fixed, interact_manual\n",
    "import ipywidgets as widgets\n",
    "from IPython.display import clear_output\n",
    "clear_output(wait=True)\n",
    "\n",
    "characters_options = [\n",
    "    'Homer Simpson:',\n",
    "    'Bart Simpson:',\n",
    "    'Lisa Simpson:',\n",
    "    'Marge Simpson:',\n",
    "    'Seymour Skinner:',\n",
    "    'Ned Flanders:',\n",
    "    'Moe Szyslak:',\n",
    "    'Voice:']\n",
    "characters = widgets.Dropdown(\n",
    "    options=characters_options,\n",
    "    value='Homer Simpson:',\n",
    "    description='Character:'\n",
    ")\n",
    "display(characters)\n",
    "\n",
    "start_text = widgets.Textarea(\n",
    "    value='Cheers for',\n",
    "    placeholder='Type something if you want to start the charecters first sentence',\n",
    "    description='Start Text:',\n",
    ")\n",
    "display(start_text)\n",
    "\n",
    "sentences = widgets.IntSlider(min=1, max=10, value=4, description='Sentences')\n",
    "display(sentences)\n",
    "\n",
    "generate = widgets.Button(\n",
    "    description='Generate',\n",
    "    button_style='', # 'success', 'info', 'warning', 'danger' or ''\n",
    "    tooltip='Generate script'\n",
    ")\n",
    "display(generate)\n",
    "\n",
    "output = widgets.HTML(\n",
    "    value=\"<pre><pre>\",\n",
    "    placeholder='output',\n",
    "    description='',\n",
    ")\n",
    "\n",
    "def on_button_clicked(b):\n",
    "    output.value = '<pre>Calculating ...</pre>'\n",
    "    generated_text = generate_script(\n",
    "            starting_text=characters.value + ' ' + start_text.value,\n",
    "            sentences=sentences.value)\n",
    "    output.value = '<pre>' + generated_text + '</pre>'\n",
    "\n",
    "generate.on_click(on_button_clicked)\n",
    "display(output);"
   ]
  }
 ],
 "metadata": {
  "extensions": {
   "jupyter_dashboards": {
    "activeView": "grid_default",
    "version": 1,
    "views": {
     "grid_default": {
      "cellMargin": 10,
      "defaultCellHeight": 20,
      "maxColumns": 12,
      "name": "grid",
      "type": "grid"
     },
     "report_default": {
      "name": "report",
      "type": "report"
     }
    }
   }
  },
  "kernelspec": {
   "display_name": "Python 3",
   "language": "python",
   "name": "python3"
  },
  "language_info": {
   "codemirror_mode": {
    "name": "ipython",
    "version": 3
   },
   "file_extension": ".py",
   "mimetype": "text/x-python",
   "name": "python",
   "nbconvert_exporter": "python",
   "pygments_lexer": "ipython3",
   "version": "3.5.3"
  },
  "toc": {
   "colors": {
    "hover_highlight": "#DAA520",
    "navigate_num": "#000000",
    "navigate_text": "#333333",
    "running_highlight": "#FF0000",
    "selected_highlight": "#FFD700",
    "sidebar_border": "#EEEEEE",
    "wrapper_background": "#FFFFFF"
   },
   "moveMenuLeft": true,
   "nav_menu": {
    "height": "49px",
    "width": "252px"
   },
   "navigate_menu": true,
   "number_sections": false,
   "sideBar": true,
   "threshold": 4,
   "toc_cell": false,
   "toc_section_display": "block",
   "toc_window_display": false,
   "widenNotebook": false
  },
  "widgets": {
   "state": {
    "19f05d6a508c4766925000ed347a991b": {
     "views": [
      {
       "cell_index": 5
      }
     ]
    },
    "2f82b52c7d124e4ab9444bd54e1e5fd7": {
     "views": [
      {
       "cell_index": 5
      }
     ]
    },
    "3909625e881a40e3a09c09bb2003108b": {
     "views": [
      {
       "cell_index": 5
      }
     ]
    },
    "ad372cac5e8c428b8f29cd6b974ddf45": {
     "views": [
      {
       "cell_index": 5
      }
     ]
    },
    "e70df3c4c26a47fa9898c2e1e45efd04": {
     "views": [
      {
       "cell_index": 5
      }
     ]
    },
    "e8bd5a12f1d848c1929aa86d88b4fb6a": {
     "views": [
      {
       "cell_index": 5
      }
     ]
    },
    "f662c46e6994413db06150e5537dc500": {
     "views": [
      {
       "cell_index": 5
      }
     ]
    }
   },
   "version": "1.2.0"
  }
 },
 "nbformat": 4,
 "nbformat_minor": 2
}
