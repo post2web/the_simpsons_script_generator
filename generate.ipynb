{
 "cells": [
  {
   "cell_type": "code",
   "execution_count": 1,
   "metadata": {
    "ExecuteTime": {
     "end_time": "2017-09-21T04:13:44.837193Z",
     "start_time": "2017-09-21T04:13:44.192525Z"
    }
   },
   "outputs": [
    {
     "name": "stdout",
     "output_type": "stream",
     "text": [
      "env: CUDA_VISIBLE_DEVICES=''\n"
     ]
    }
   ],
   "source": [
    "%env CUDA_VISIBLE_DEVICES=''\n",
    "\n",
    "import tensorflow as tf\n",
    "import numpy as np\n",
    "import pandas as pd\n",
    "import pickle\n",
    "from IPython.core.display import display, HTML"
   ]
  },
  {
   "cell_type": "markdown",
   "metadata": {},
   "source": [
    "## Load the trained model"
   ]
  },
  {
   "cell_type": "code",
   "execution_count": 2,
   "metadata": {
    "ExecuteTime": {
     "end_time": "2017-09-21T04:13:46.774829Z",
     "start_time": "2017-09-21T04:13:44.839051Z"
    }
   },
   "outputs": [
    {
     "name": "stdout",
     "output_type": "stream",
     "text": [
      "INFO:tensorflow:Restoring parameters from checkpoints0/model25000\n"
     ]
    }
   ],
   "source": [
    "checkout_dir = 'checkpoints0/model25000'\n",
    "\n",
    "text, words_to_ids, ids_to_words = pickle.load(open('data/preprocess.p', mode='rb'))\n",
    "sess = tf.Session()\n",
    "\n",
    "loader = tf.train.import_meta_graph(checkout_dir + '.meta')\n",
    "loader.restore(sess, checkout_dir)\n",
    "\n",
    "loaded_graph = tf.get_default_graph()\n",
    "# Get Tensors from loaded model\n",
    "names = [\"input:0\", \"initial_state:0\", \"final_state:0\", \"probs:0\"]\n",
    "tensors = [loaded_graph.get_tensor_by_name(name) for name in names]\n",
    "inputs, initial_state, final_state, probs = tensors"
   ]
  },
  {
   "cell_type": "code",
   "execution_count": 3,
   "metadata": {
    "ExecuteTime": {
     "end_time": "2017-09-21T04:13:46.803231Z",
     "start_time": "2017-09-21T04:13:46.776307Z"
    },
    "scrolled": true
   },
   "outputs": [],
   "source": [
    "from tokenizer import *\n",
    "\n",
    "def pick_word(probabilities, int_to_vocab):\n",
    "    probabilities[words_to_ids['not_in_vocab']] = 0.\n",
    "    # make it sum to 1\n",
    "    probabilities /= probabilities.sum()\n",
    "    word_id = np.random.choice(np.arange(len(probabilities)), size=1, p=probabilities)[0]\n",
    "    #word_id = np.argmax(probabilities)\n",
    "    return int_to_vocab[word_id]\n",
    "\n",
    "def generate(starting_text='Homer Simpson:', generate_length=300):\n",
    "    sentence_tokens = text_to_tokens(starting_text)\n",
    "    prev_state = sess.run(initial_state, {inputs: np.array([[1]])})\n",
    "\n",
    "    for n in range(generate_length):\n",
    "        sentence_ids = [[words_to_ids[word] for word in sentence_tokens]]\n",
    "        sentence_len = len(sentence_ids[0])\n",
    "\n",
    "        probabilities, prev_state = sess.run(\n",
    "            [probs, final_state],\n",
    "            {inputs: sentence_ids, initial_state: prev_state})\n",
    "\n",
    "        predicted_token = pick_word(probabilities[0][sentence_len-1], ids_to_words)\n",
    "        sentence_tokens.append(predicted_token)\n",
    "    return tokens_to_text(sentence_tokens)"
   ]
  },
  {
   "cell_type": "markdown",
   "metadata": {},
   "source": [
    "## Generate an original script from a trained network"
   ]
  },
  {
   "cell_type": "code",
   "execution_count": 4,
   "metadata": {
    "ExecuteTime": {
     "end_time": "2017-09-21T04:18:29.217105Z",
     "start_time": "2017-09-21T04:13:46.804630Z"
    }
   },
   "outputs": [
    {
     "data": {
      "text/html": [
       "<pre>Homer Simpson: (Chuckles)\n",
       "\n",
       "Marge Simpson: Don't worry, I'd rather get back into the end of the cheap special guest company if you want to be so needy. Duh, heh. Like pre-pin racket, and your son is special for you. Then I just play a plan that'll get it right.\n",
       "\n",
       "Marge Simpson: What's the matter now?\n",
       "\n",
       "Homer Simpson: Only seventy-five dollars to get outta that.\n",
       "\n",
       "Abraham Lincoln: I know buying one thing I'm asking...\n",
       "\n",
       "Grampa Simpson: I am? Y'know I did. (Taken Aback) Just doing it?\n",
       "\n",
       "Homer Simpson: Nah.\n",
       "\n",
       "Homer Simpson: Lisa, Mom's in real power of the way--\n",
       "\n",
       "Lisa Simpson: Oh, Dad, we should love him. You gotta help him, baby. (Frustrated Noises) Any questions?\n",
       "\n",
       "Edna Krabappel-Flanders: Mr. Mobbs, don't worry. It's an insult to you and the all-end profits over the world, but he usually works word good!\n",
       "\n",
       "(Cheddarbarrel Matter, Funny Witch\": Okay, I'm gonna look back a little... not covered with... with the... (Snores) squeeze.\n",
       "\n",
       "(Museum: int. museum - film section - continuous)\n",
       "\n",
       "Ralph Wiggum: You're</pre>"
      ],
      "text/plain": [
       "<IPython.core.display.HTML object>"
      ]
     },
     "metadata": {},
     "output_type": "display_data"
    }
   ],
   "source": [
    "script = generate(starting_text='Homer Simpson:', generate_length=500)\n",
    "\n",
    "display(HTML('<pre>%s</pre>' % script))"
   ]
  }
 ],
 "metadata": {
  "kernelspec": {
   "display_name": "Python 3",
   "language": "python",
   "name": "python3"
  },
  "language_info": {
   "codemirror_mode": {
    "name": "ipython",
    "version": 3
   },
   "file_extension": ".py",
   "mimetype": "text/x-python",
   "name": "python",
   "nbconvert_exporter": "python",
   "pygments_lexer": "ipython3",
   "version": "3.5.3"
  },
  "toc": {
   "colors": {
    "hover_highlight": "#DAA520",
    "navigate_num": "#000000",
    "navigate_text": "#333333",
    "running_highlight": "#FF0000",
    "selected_highlight": "#FFD700",
    "sidebar_border": "#EEEEEE",
    "wrapper_background": "#FFFFFF"
   },
   "moveMenuLeft": true,
   "nav_menu": {
    "height": "49px",
    "width": "252px"
   },
   "navigate_menu": true,
   "number_sections": true,
   "sideBar": true,
   "threshold": 4,
   "toc_cell": false,
   "toc_section_display": "block",
   "toc_window_display": false,
   "widenNotebook": false
  }
 },
 "nbformat": 4,
 "nbformat_minor": 2
}
