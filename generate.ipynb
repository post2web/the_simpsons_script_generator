{
 "cells": [
  {
   "cell_type": "code",
   "execution_count": null,
   "metadata": {
    "collapsed": true
   },
   "outputs": [],
   "source": [
    "# use only the first GPU\n",
    "%env CUDA_VISIBLE_DEVICES=0"
   ]
  },
  {
   "cell_type": "code",
   "execution_count": 1,
   "metadata": {
    "collapsed": true
   },
   "outputs": [],
   "source": [
    "import tensorflow as tf\n",
    "import numpy as np\n",
    "import pandas as pd\n",
    "import pickle"
   ]
  },
  {
   "cell_type": "code",
   "execution_count": 2,
   "metadata": {
    "collapsed": true
   },
   "outputs": [],
   "source": [
    "text, words_to_ids, ids_to_words, token_dict = pickle.load(open('data/preprocess.p', mode='rb'))"
   ]
  },
  {
   "cell_type": "code",
   "execution_count": 3,
   "metadata": {
    "collapsed": true
   },
   "outputs": [],
   "source": [
    "def pick_word(probabilities, int_to_vocab):\n",
    "    return int_to_vocab[np.argmax(probabilities)]"
   ]
  },
  {
   "cell_type": "code",
   "execution_count": 8,
   "metadata": {
    "collapsed": true,
    "scrolled": false
   },
   "outputs": [],
   "source": [
    "gen_length = 500\n",
    "checkout_dir = 'checkpoints/'\n",
    "seq_length = 100\n",
    "# homer_simpson, moe_szyslak, or Barney_Gumble\n",
    "gen_sentences = ['homer','[space]','simpson','[colon]']\n",
    "gen_sentences = ['bart','[space]','simpson','[colon]']\n",
    "gen_sentences = ['moe','[space]','szyslak','[colon]']\n",
    "\n",
    "tf.reset_default_graph()\n",
    "loaded_graph = tf.Graph()\n",
    "with tf.Session(graph=loaded_graph) as sess:\n",
    "    # Load saved model\n",
    "    loader = tf.train.import_meta_graph(checkout_dir + 'model.meta')\n",
    "    loader.restore(sess, checkout_dir + 'model')\n",
    "\n",
    "    # Get Tensors from loaded model\n",
    "    names = [\"input:0\", \"initial_state:0\", \"final_state:0\", \"probs:0\"]\n",
    "    tensors = [loaded_graph.get_tensor_by_name(name) for name in names]\n",
    "    inputs, initial_state, final_state, probs = tensors\n",
    "\n",
    "    # Sentences generation setup\n",
    "    #gen_sentences = [prime_word]\n",
    "    prev_state = sess.run(initial_state, {inputs: np.array([[1]])})\n",
    "\n",
    "    # Generate sentences\n",
    "    for n in range(gen_length):\n",
    "        # Dynamic Input\n",
    "        dyn_input = [[words_to_ids[word] for word in gen_sentences[-seq_length:]]]\n",
    "        dyn_seq_length = len(dyn_input[0])\n",
    "\n",
    "        # Get Prediction\n",
    "        probabilities, prev_state = sess.run(\n",
    "            [probs, final_state],\n",
    "            {inputs: dyn_input, initial_state: prev_state})\n",
    "        \n",
    "        pred_word = pick_word(probabilities[dyn_seq_length-1], ids_to_words)\n",
    "        gen_sentences.append(pred_word)"
   ]
  },
  {
   "cell_type": "markdown",
   "metadata": {},
   "source": [
    "## Remove tokens"
   ]
  },
  {
   "cell_type": "code",
   "execution_count": 7,
   "metadata": {},
   "outputs": [
    {
     "name": "stdout",
     "output_type": "stream",
     "text": [
      "bart simpson: (half under water) maggie! press the red button!\n",
      "\n",
      "homer simpson: (annoyed grunt)\n",
      "\n",
      "(springfield streets: ext. springfield streets - continuous)\n",
      "\n",
      "nelson muntz: haw haw!\n",
      "\n",
      "nelson muntz: haw haw!\n",
      "\n",
      "nelson muntz: haw haw!\n",
      "\n",
      "nelson muntz: haw haw!\n",
      "\n",
      "c. montgomery burns: excellent.\n",
      "\n",
      "lisa simpson: but...\n",
      "\n",
      "bart simpson: i can't go write way! i just started seeing some nice guy and i want to know who you are. but right now she's  with my brother.\n",
      "\n",
      "c. montgomery burns: (to homer) come on...\n",
      "\n",
      "homer simpson: (determined) it's true. and i've got lots of potatoes (chuckles) what am i gonna do. get out. (then, looking around) where's the  of a cart or something or died?\n",
      "\n",
      "homer simpson: (scared noise)\n",
      "\n",
      "homer simpson: (scream)\n",
      "\n",
      "homer simpson: (scream)\n",
      "\n",
      "homer simpson: (pained noise)\n",
      "\n",
      "homer simpson: (pained noise)\n",
      "\n",
      "(fun center: ext. garden of eden - day)\n",
      "\n",
      "homer simpson: (singing) when the time flew by to get it, i leave you / or is i should get a beer with my  a bag...\n",
      "\n",
      "lisa simpson: (giving in face) if you want to play in the , you'll see when you get to your college education.\n",
      "\n",
      "lisa simpson: (calling out window) i'm not \n"
     ]
    }
   ],
   "source": [
    "tv_script = ''.join(gen_sentences)\n",
    "for value, token in token_dict.items():\n",
    "    tv_script = tv_script.replace(token, value)\n",
    "\n",
    "print(tv_script)"
   ]
  }
 ],
 "metadata": {
  "kernelspec": {
   "display_name": "Python 3",
   "language": "python",
   "name": "python3"
  },
  "language_info": {
   "codemirror_mode": {
    "name": "ipython",
    "version": 3
   },
   "file_extension": ".py",
   "mimetype": "text/x-python",
   "name": "python",
   "nbconvert_exporter": "python",
   "pygments_lexer": "ipython3",
   "version": "3.5.2"
  }
 },
 "nbformat": 4,
 "nbformat_minor": 2
}
