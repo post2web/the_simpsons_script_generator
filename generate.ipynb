{
 "cells": [
  {
   "cell_type": "code",
   "execution_count": 1,
   "metadata": {},
   "outputs": [
    {
     "name": "stdout",
     "output_type": "stream",
     "text": [
      "env: CUDA_VISIBLE_DEVICES=1\n"
     ]
    }
   ],
   "source": [
    "# use only the second GPU\n",
    "%env CUDA_VISIBLE_DEVICES=1"
   ]
  },
  {
   "cell_type": "code",
   "execution_count": 2,
   "metadata": {
    "collapsed": true
   },
   "outputs": [],
   "source": [
    "import tensorflow as tf\n",
    "import numpy as np\n",
    "import pandas as pd\n",
    "import pickle"
   ]
  },
  {
   "cell_type": "markdown",
   "metadata": {},
   "source": [
    "## Load the trained model"
   ]
  },
  {
   "cell_type": "code",
   "execution_count": 3,
   "metadata": {},
   "outputs": [
    {
     "name": "stdout",
     "output_type": "stream",
     "text": [
      "INFO:tensorflow:Restoring parameters from checkpoints/model\n"
     ]
    }
   ],
   "source": [
    "checkout_dir = 'checkpoints/'\n",
    "\n",
    "text, words_to_ids, ids_to_words = pickle.load(open('data/preprocess.p', mode='rb'))\n",
    "sess = tf.Session()\n",
    "\n",
    "loader = tf.train.import_meta_graph(checkout_dir + 'model.meta')\n",
    "loader.restore(sess, checkout_dir + 'model')\n",
    "\n",
    "loaded_graph = tf.get_default_graph()\n",
    "# Get Tensors from loaded model\n",
    "names = [\"input:0\", \"initial_state:0\", \"final_state:0\", \"probs:0\"]\n",
    "tensors = [loaded_graph.get_tensor_by_name(name) for name in names]\n",
    "inputs, initial_state, final_state, probs = tensors"
   ]
  },
  {
   "cell_type": "code",
   "execution_count": 4,
   "metadata": {
    "scrolled": true
   },
   "outputs": [],
   "source": [
    "from tokenizer import *\n",
    "\n",
    "def pick_word(probabilities, int_to_vocab):\n",
    "    return int_to_vocab[np.argmax(probabilities)]\n",
    "\n",
    "def generate(starting_text='Homer Simpson:', generate_length=300):\n",
    "    sentence_tokens = text_to_tokens(starting_text)\n",
    "    prev_state = sess.run(initial_state, {inputs: np.array([[1]])})\n",
    "\n",
    "    for n in range(generate_length):\n",
    "        sentence_ids = [[words_to_ids[word] for word in sentence_tokens]]\n",
    "        sentence_len = len(sentence_ids[0])\n",
    "\n",
    "        probabilities, prev_state = sess.run(\n",
    "            [probs, final_state],\n",
    "            {inputs: sentence_ids, initial_state: prev_state})\n",
    "\n",
    "        predicted_token = pick_word(probabilities[0][sentence_len-1], ids_to_words)\n",
    "        sentence_tokens.append(predicted_token)\n",
    "    return tokens_to_text(sentence_tokens)"
   ]
  },
  {
   "cell_type": "markdown",
   "metadata": {},
   "source": [
    "## Generate some text"
   ]
  },
  {
   "cell_type": "code",
   "execution_count": 5,
   "metadata": {},
   "outputs": [
    {
     "data": {
      "text/plain": [
       "\"Homer Simpson: I don't know how to do this thing.\\n\\nHomer Simpson: I don't know how to do this thing to do with a  dog.\\n\\nHomer Simpson: I don't know how to do this thing.\\n\\nHomer Simpson: I don't know how to do this thing to do with a  dog.\\n\\nHomer Simpson: I don't know how to do this thing.\\n\\nHomer Simpson: I don't know how to do this thing to do with a  dog.\\n\\nHomer Simpson: I don't know how to do this thing.\\n\\nHomer Simpson: I don't know how to do this thing to do with a  dog.\\n\\nHomer Simpson: I don't know how to do this thing.\\n\\nHomer Simpson: I \""
      ]
     },
     "execution_count": 5,
     "metadata": {},
     "output_type": "execute_result"
    }
   ],
   "source": [
    "generate(starting_text='Homer Simpson:')"
   ]
  }
 ],
 "metadata": {
  "kernelspec": {
   "display_name": "Python 3",
   "language": "python",
   "name": "python3"
  },
  "language_info": {
   "codemirror_mode": {
    "name": "ipython",
    "version": 2
   },
   "file_extension": ".py",
   "mimetype": "text/x-python",
   "name": "python",
   "nbconvert_exporter": "python",
   "pygments_lexer": "ipython2",
   "version": "2.7.12"
  }
 },
 "nbformat": 4,
 "nbformat_minor": 2
}
